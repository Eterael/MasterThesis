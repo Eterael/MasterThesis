{
 "cells": [
  {
   "cell_type": "markdown",
   "metadata": {},
   "source": [
    "## RDkit for generation of aminoacid depictions"
   ]
  },
  {
   "cell_type": "code",
   "execution_count": 4,
   "metadata": {},
   "outputs": [],
   "source": [
    "#%pip install rdkit\n",
    "#%pip install py3Dmol"
   ]
  },
  {
   "cell_type": "code",
   "execution_count": 2,
   "metadata": {},
   "outputs": [],
   "source": [
    "from rdkit import Chem\n",
    "from rdkit.Chem import Draw\n",
    "from rdkit.Chem.Draw import rdMolDraw2D\n",
    "from rdkit.Chem import AllChem\n",
    "\n",
    "# Define Canonical Isomeric SMILES fetched from pubchem for all amino acids\n",
    "backbone_smiles = 'C(C(=O)O)N'\n",
    "alanine_smiles = 'C[C@@H](C(=O)O)N '\n",
    "arginine_smiles = 'C(C[C@@H](C(=O)O)N)CN=C(N)N  '\n",
    "asparagine_smiles = 'C([C@@H](C(=O)O)N)C(=O)N'\n",
    "aspartic_acid_smiles = 'C([C@@H](C(=O)O)N)C(=O)O'\n",
    "cysteine_smiles = 'C([C@@H](C(=O)O)N)S'\n",
    "glutamine_smiles = 'C(CC(=O)N)[C@@H](C(=O)O)N'\n",
    "glutamic_acid_smiles = 'C(CC(=O)O)[C@@H](C(=O)O)N'\n",
    "glycine_smiles = 'C(C(=O)O)N'\n",
    "histidine_smiles = 'C1=C(NC=N1)C[C@@H](C(=O)O)N'\n",
    "isoleucine_smiles = 'CC[C@H](C)[C@@H](C(=O)O)N'\n",
    "leucine_smiles = 'CC(C)C[C@@H](C(=O)O)N'\n",
    "lysine_smiles = 'C(CCN)C[C@@H](C(=O)O)N'\n",
    "methionine_smiles = 'CSCC[C@@H](C(=O)O)N'\n",
    "phenylalanine_smiles = 'C1=CC=C(C=C1)C[C@@H](C(=O)O)N'\n",
    "proline_smiles = 'C1C[C@H](NC1)C(=O)O'\n",
    "serine_smiles = 'C([C@@H](C(=O)O)N)O'\n",
    "threonine_smiles = 'C[C@H]([C@@H](C(=O)O)N)O'\n",
    "tryptophan_smiles = 'C1=CC=C2C(=C1)C(=CN2)C[C@@H](C(=O)O)N '\n",
    "tyrosine_smiles = 'C1=CC(=CC=C1C[C@@H](C(=O)O)N)O'\n",
    "valine_smiles = 'CC(C)[C@@H](C(=O)O)N'\n",
    "\n",
    "# Convert SMILES to RDKit molecule objects\n",
    "backbone = Chem.MolFromSmiles(backbone_smiles)\n",
    "alanine = Chem.MolFromSmiles(alanine_smiles)\n",
    "arginine = Chem.MolFromSmiles(arginine_smiles)\n",
    "asparagine = Chem.MolFromSmiles(asparagine_smiles)\n",
    "aspartic_acid = Chem.MolFromSmiles(aspartic_acid_smiles)\n",
    "cysteine = Chem.MolFromSmiles(cysteine_smiles)\n",
    "glutamine = Chem.MolFromSmiles(glutamine_smiles)\n",
    "glutamic_acid = Chem.MolFromSmiles(glutamic_acid_smiles)\n",
    "glycine = Chem.MolFromSmiles(glycine_smiles)\n",
    "histidine = Chem.MolFromSmiles(histidine_smiles)\n",
    "isoleucine = Chem.MolFromSmiles(isoleucine_smiles)\n",
    "leucine = Chem.MolFromSmiles(leucine_smiles)\n",
    "lysine = Chem.MolFromSmiles(lysine_smiles)\n",
    "methionine = Chem.MolFromSmiles(methionine_smiles)\n",
    "phenylalanine = Chem.MolFromSmiles(phenylalanine_smiles)\n",
    "proline = Chem.MolFromSmiles(proline_smiles)\n",
    "serine = Chem.MolFromSmiles(serine_smiles)\n",
    "threonine = Chem.MolFromSmiles(threonine_smiles)\n",
    "tryptophan = Chem.MolFromSmiles(tryptophan_smiles)\n",
    "tyrosine = Chem.MolFromSmiles(tyrosine_smiles)\n",
    "valine = Chem.MolFromSmiles(valine_smiles)\n",
    "\n",
    "# Compute 2D coordinates for both the template and the test molecule\n",
    "AllChem.Compute2DCoords(backbone)\n",
    "\n",
    "# Aligning 2D structure to Backbone structure\n",
    "amino_acids = [alanine, arginine, asparagine, \n",
    "               aspartic_acid, cysteine, glutamine, \n",
    "               glutamic_acid, glycine, histidine, \n",
    "               isoleucine, leucine, lysine, \n",
    "               methionine, phenylalanine, proline, \n",
    "               serine, threonine, tryptophan, tyrosine, \n",
    "               valine]\n",
    "\n",
    "for amino_acid in amino_acids:\n",
    "    AllChem.Compute2DCoords(amino_acid) # Compute 2D coordinate\n",
    "    AllChem.GenerateDepictionMatching2DStructure(amino_acid, backbone) # Align structure to backbone\n",
    "\n",
    "\n",
    "# Prepare drawing options\n",
    "options = rdMolDraw2D.MolDrawOptions()\n",
    "options.fixedBondLength = 30  # Adjust this value as needed to control atom size and bond length\n",
    "\n",
    "# Function to draw molecule with consistent atom sizes\n",
    "def draw_molecule(molecule, filename, options=None):\n",
    "    drawer = rdMolDraw2D.MolDraw2DCairo(224, 224)  # Adjust image size as needed\n",
    "    if options:\n",
    "        drawer.SetDrawOptions(options)\n",
    "    drawer.DrawMolecule(molecule)\n",
    "    drawer.FinishDrawing()\n",
    "    drawer.WriteDrawingText(filename)\n",
    "\n",
    "# Draw molecules\n",
    "draw_molecule(backbone, '2Dstruc/backbone.png', options)\n",
    "draw_molecule(alanine, '2Dstruc/alanine.png', options)\n",
    "draw_molecule(arginine, '2Dstruc/arginine.png', options)\n",
    "draw_molecule(asparagine, '2Dstruc/asparagine.png', options)\n",
    "draw_molecule(aspartic_acid, '2Dstruc/aspartic_acid.png', options)\n",
    "draw_molecule(cysteine, '2Dstruc/cysteine.png', options)\n",
    "draw_molecule(glutamine, '2Dstruc/glutamine.png', options)\n",
    "draw_molecule(glutamic_acid, '2Dstruc/glutamic_acid.png', options)\n",
    "draw_molecule(glycine, '2Dstruc/glycine.png', options)\n",
    "draw_molecule(histidine, '2Dstruc/histidine.png', options)\n",
    "draw_molecule(isoleucine, '2Dstruc/isoleucine.png', options)\n",
    "draw_molecule(leucine, '2Dstruc/leucine.png', options)\n",
    "draw_molecule(lysine, '2Dstruc/lysine.png', options)\n",
    "draw_molecule(methionine, '2Dstruc/methionine.png', options)\n",
    "draw_molecule(phenylalanine, '2Dstruc/phenylalanine.png', options)\n",
    "draw_molecule(proline, '2Dstruc/proline.png', options)\n",
    "draw_molecule(serine, '2Dstruc/serine.png', options)\n",
    "draw_molecule(threonine, '2Dstruc/threonine.png', options)\n",
    "draw_molecule(tryptophan, '2Dstruc/tryptophan.png', options)\n",
    "draw_molecule(tyrosine, '2Dstruc/tyrosine.png', options)\n",
    "draw_molecule(valine, '2Dstruc/valine.png', options)"
   ]
  },
  {
   "cell_type": "code",
   "execution_count": 24,
   "metadata": {},
   "outputs": [
    {
     "data": {
      "application/3dmoljs_load.v0": "<div id=\"3dmolviewer_17080758329415374\"  style=\"position: relative; width: 400px; height: 400px;\">\n        <p id=\"3dmolwarning_17080758329415374\" style=\"background-color:#ffcccc;color:black\">You appear to be running in JupyterLab (or JavaScript failed to load for some other reason).  You need to install the 3dmol extension: <br>\n        <tt>jupyter labextension install jupyterlab_3dmol</tt></p>\n        </div>\n<script>\n\nvar loadScriptAsync = function(uri){\n  return new Promise((resolve, reject) => {\n    //this is to ignore the existence of requirejs amd\n    var savedexports, savedmodule;\n    if (typeof exports !== 'undefined') savedexports = exports;\n    else exports = {}\n    if (typeof module !== 'undefined') savedmodule = module;\n    else module = {}\n\n    var tag = document.createElement('script');\n    tag.src = uri;\n    tag.async = true;\n    tag.onload = () => {\n        exports = savedexports;\n        module = savedmodule;\n        resolve();\n    };\n  var firstScriptTag = document.getElementsByTagName('script')[0];\n  firstScriptTag.parentNode.insertBefore(tag, firstScriptTag);\n});\n};\n\nif(typeof $3Dmolpromise === 'undefined') {\n$3Dmolpromise = null;\n  $3Dmolpromise = loadScriptAsync('https://cdnjs.cloudflare.com/ajax/libs/3Dmol/2.0.4/3Dmol-min.js');\n}\n\nvar viewer_17080758329415374 = null;\nvar warn = document.getElementById(\"3dmolwarning_17080758329415374\");\nif(warn) {\n    warn.parentNode.removeChild(warn);\n}\n$3Dmolpromise.then(function() {\nviewer_17080758329415374 = $3Dmol.createViewer(document.getElementById(\"3dmolviewer_17080758329415374\"),{backgroundColor:\"white\"});\nviewer_17080758329415374.zoomTo();\n\tviewer_17080758329415374.addModel(\"\\n     RDKit          3D\\n\\n 13 12  0  0  0  0  0  0  0  0999 V2000\\n   -0.7840    1.0598    0.0652 C   0  0  0  0  0  0  0  0  0  0  0  0\\n   -0.1783   -0.2883   -0.3224 C   0  0  0  0  0  0  0  0  0  0  0  0\\n    1.1975   -0.3284    0.2329 C   0  0  0  0  0  0  0  0  0  0  0  0\\n    1.5483   -1.2397    1.0011 O   0  0  0  0  0  0  0  0  0  0  0  0\\n    2.1186    0.6524   -0.0961 O   0  0  0  0  0  0  0  0  0  0  0  0\\n   -0.9893   -1.3759    0.1238 N   0  0  0  0  0  0  0  0  0  0  0  0\\n   -0.7471    1.2048    1.1444 H   0  0  0  0  0  0  0  0  0  0  0  0\\n   -0.1422    1.8226   -0.4508 H   0  0  0  0  0  0  0  0  0  0  0  0\\n   -1.8058    1.0637   -0.3285 H   0  0  0  0  0  0  0  0  0  0  0  0\\n   -0.1167   -0.2813   -1.4389 H   0  0  0  0  0  0  0  0  0  0  0  0\\n    3.0432    0.7149    0.3535 H   0  0  0  0  0  0  0  0  0  0  0  0\\n   -1.9346   -0.9888    0.4099 H   0  0  0  0  0  0  0  0  0  0  0  0\\n   -1.2096   -2.0156   -0.6942 H   0  0  0  0  0  0  0  0  0  0  0  0\\n  1  2  1  0\\n  2  3  1  0\\n  3  4  2  0\\n  3  5  1  0\\n  2  6  1  0\\n  1  7  1  0\\n  1  8  1  0\\n  1  9  1  0\\n  2 10  1  0\\n  5 11  1  0\\n  6 12  1  0\\n  6 13  1  0\\nM  END\\n\",\"mol\");\n\tviewer_17080758329415374.setStyle({\"stick\": {}});\n\tviewer_17080758329415374.zoomTo();\nviewer_17080758329415374.render();\n});\n</script>",
      "text/html": [
       "<div id=\"3dmolviewer_17080758329415374\"  style=\"position: relative; width: 400px; height: 400px;\">\n",
       "        <p id=\"3dmolwarning_17080758329415374\" style=\"background-color:#ffcccc;color:black\">You appear to be running in JupyterLab (or JavaScript failed to load for some other reason).  You need to install the 3dmol extension: <br>\n",
       "        <tt>jupyter labextension install jupyterlab_3dmol</tt></p>\n",
       "        </div>\n",
       "<script>\n",
       "\n",
       "var loadScriptAsync = function(uri){\n",
       "  return new Promise((resolve, reject) => {\n",
       "    //this is to ignore the existence of requirejs amd\n",
       "    var savedexports, savedmodule;\n",
       "    if (typeof exports !== 'undefined') savedexports = exports;\n",
       "    else exports = {}\n",
       "    if (typeof module !== 'undefined') savedmodule = module;\n",
       "    else module = {}\n",
       "\n",
       "    var tag = document.createElement('script');\n",
       "    tag.src = uri;\n",
       "    tag.async = true;\n",
       "    tag.onload = () => {\n",
       "        exports = savedexports;\n",
       "        module = savedmodule;\n",
       "        resolve();\n",
       "    };\n",
       "  var firstScriptTag = document.getElementsByTagName('script')[0];\n",
       "  firstScriptTag.parentNode.insertBefore(tag, firstScriptTag);\n",
       "});\n",
       "};\n",
       "\n",
       "if(typeof $3Dmolpromise === 'undefined') {\n",
       "$3Dmolpromise = null;\n",
       "  $3Dmolpromise = loadScriptAsync('https://cdnjs.cloudflare.com/ajax/libs/3Dmol/2.0.4/3Dmol-min.js');\n",
       "}\n",
       "\n",
       "var viewer_17080758329415374 = null;\n",
       "var warn = document.getElementById(\"3dmolwarning_17080758329415374\");\n",
       "if(warn) {\n",
       "    warn.parentNode.removeChild(warn);\n",
       "}\n",
       "$3Dmolpromise.then(function() {\n",
       "viewer_17080758329415374 = $3Dmol.createViewer(document.getElementById(\"3dmolviewer_17080758329415374\"),{backgroundColor:\"white\"});\n",
       "viewer_17080758329415374.zoomTo();\n",
       "\tviewer_17080758329415374.addModel(\"\\n     RDKit          3D\\n\\n 13 12  0  0  0  0  0  0  0  0999 V2000\\n   -0.7840    1.0598    0.0652 C   0  0  0  0  0  0  0  0  0  0  0  0\\n   -0.1783   -0.2883   -0.3224 C   0  0  0  0  0  0  0  0  0  0  0  0\\n    1.1975   -0.3284    0.2329 C   0  0  0  0  0  0  0  0  0  0  0  0\\n    1.5483   -1.2397    1.0011 O   0  0  0  0  0  0  0  0  0  0  0  0\\n    2.1186    0.6524   -0.0961 O   0  0  0  0  0  0  0  0  0  0  0  0\\n   -0.9893   -1.3759    0.1238 N   0  0  0  0  0  0  0  0  0  0  0  0\\n   -0.7471    1.2048    1.1444 H   0  0  0  0  0  0  0  0  0  0  0  0\\n   -0.1422    1.8226   -0.4508 H   0  0  0  0  0  0  0  0  0  0  0  0\\n   -1.8058    1.0637   -0.3285 H   0  0  0  0  0  0  0  0  0  0  0  0\\n   -0.1167   -0.2813   -1.4389 H   0  0  0  0  0  0  0  0  0  0  0  0\\n    3.0432    0.7149    0.3535 H   0  0  0  0  0  0  0  0  0  0  0  0\\n   -1.9346   -0.9888    0.4099 H   0  0  0  0  0  0  0  0  0  0  0  0\\n   -1.2096   -2.0156   -0.6942 H   0  0  0  0  0  0  0  0  0  0  0  0\\n  1  2  1  0\\n  2  3  1  0\\n  3  4  2  0\\n  3  5  1  0\\n  2  6  1  0\\n  1  7  1  0\\n  1  8  1  0\\n  1  9  1  0\\n  2 10  1  0\\n  5 11  1  0\\n  6 12  1  0\\n  6 13  1  0\\nM  END\\n\",\"mol\");\n",
       "\tviewer_17080758329415374.setStyle({\"stick\": {}});\n",
       "\tviewer_17080758329415374.zoomTo();\n",
       "viewer_17080758329415374.render();\n",
       "});\n",
       "</script>"
      ]
     },
     "metadata": {},
     "output_type": "display_data"
    },
    {
     "data": {
      "text/plain": [
       "<py3Dmol.view at 0x2466252e350>"
      ]
     },
     "execution_count": 24,
     "metadata": {},
     "output_type": "execute_result"
    }
   ],
   "source": [
    "import py3Dmol\n",
    "from rdkit import Chem\n",
    "from rdkit.Chem import AllChem\n",
    "\n",
    "# Generate a molecule and its 3D coordinates\n",
    "smiles = \"CC(C(=O)O)N\"  # Example for Alanine\n",
    "molecule = Chem.MolFromSmiles(smiles)\n",
    "molecule_with_h = Chem.AddHs(molecule)\n",
    "AllChem.EmbedMolecule(molecule_with_h, AllChem.ETKDG())\n",
    "\n",
    "# Convert to 3Dmol.js format\n",
    "mb = Chem.MolToMolBlock(molecule_with_h)\n",
    "\n",
    "view = py3Dmol.view(width=400, height=400)\n",
    "view.addModel(mb, 'mol')\n",
    "view.setStyle({'stick': {}})\n",
    "view.zoomTo()\n",
    "# This will show the molecule in a Jupyter notebook, but saving as PNG directly might require screenshotting or using JS functions\n",
    "\n",
    "# For non-interactive, static image generation, dedicated software like PyMOL is recommended.\n"
   ]
  },
  {
   "cell_type": "code",
   "execution_count": 7,
   "metadata": {},
   "outputs": [
    {
     "data": {
      "application/3dmoljs_load.v0": "<div id=\"3dmolviewer_1708434763241615\"  style=\"position: relative; width: 400px; height: 400px;\">\n        <p id=\"3dmolwarning_1708434763241615\" style=\"background-color:#ffcccc;color:black\">You appear to be running in JupyterLab (or JavaScript failed to load for some other reason).  You need to install the 3dmol extension: <br>\n        <tt>jupyter labextension install jupyterlab_3dmol</tt></p>\n        </div>\n<script>\n\nvar loadScriptAsync = function(uri){\n  return new Promise((resolve, reject) => {\n    //this is to ignore the existence of requirejs amd\n    var savedexports, savedmodule;\n    if (typeof exports !== 'undefined') savedexports = exports;\n    else exports = {}\n    if (typeof module !== 'undefined') savedmodule = module;\n    else module = {}\n\n    var tag = document.createElement('script');\n    tag.src = uri;\n    tag.async = true;\n    tag.onload = () => {\n        exports = savedexports;\n        module = savedmodule;\n        resolve();\n    };\n  var firstScriptTag = document.getElementsByTagName('script')[0];\n  firstScriptTag.parentNode.insertBefore(tag, firstScriptTag);\n});\n};\n\nif(typeof $3Dmolpromise === 'undefined') {\n$3Dmolpromise = null;\n  $3Dmolpromise = loadScriptAsync('https://cdnjs.cloudflare.com/ajax/libs/3Dmol/2.0.4/3Dmol-min.js');\n}\n\nvar viewer_1708434763241615 = null;\nvar warn = document.getElementById(\"3dmolwarning_1708434763241615\");\nif(warn) {\n    warn.parentNode.removeChild(warn);\n}\n$3Dmolpromise.then(function() {\nviewer_1708434763241615 = $3Dmol.createViewer(document.getElementById(\"3dmolviewer_1708434763241615\"),{backgroundColor:\"white\"});\nviewer_1708434763241615.zoomTo();\n\tviewer_1708434763241615.addModel(\"\\n     RDKit          3D\\n\\n 13 12  0  0  0  0  0  0  0  0999 V2000\\n   -1.0115    0.6523    0.6376 C   0  0  0  0  0  0  0  0  0  0  0  0\\n   -0.0807   -0.4533    0.2413 C   0  0  0  0  0  0  0  0  0  0  0  0\\n    1.2737    0.0528   -0.1452 C   0  0  0  0  0  0  0  0  0  0  0  0\\n    1.7674   -0.2042   -1.2789 O   0  0  0  0  0  0  0  0  0  0  0  0\\n    2.0521    0.8223    0.7091 O   0  0  0  0  0  0  0  0  0  0  0  0\\n   -0.6122   -1.2056   -0.8522 N   0  0  0  0  0  0  0  0  0  0  0  0\\n   -1.8389    0.2183    1.2400 H   0  0  0  0  0  0  0  0  0  0  0  0\\n   -1.4204    1.1503   -0.2855 H   0  0  0  0  0  0  0  0  0  0  0  0\\n   -0.5214    1.3980    1.2928 H   0  0  0  0  0  0  0  0  0  0  0  0\\n    0.0747   -1.0926    1.1507 H   0  0  0  0  0  0  0  0  0  0  0  0\\n    2.5694    1.5973    0.2737 H   0  0  0  0  0  0  0  0  0  0  0  0\\n   -1.4228   -0.7420   -1.3263 H   0  0  0  0  0  0  0  0  0  0  0  0\\n   -0.8294   -2.1936   -0.6224 H   0  0  0  0  0  0  0  0  0  0  0  0\\n  1  2  1  0\\n  2  3  1  0\\n  3  4  2  0\\n  3  5  1  0\\n  2  6  1  0\\n  1  7  1  0\\n  1  8  1  0\\n  1  9  1  0\\n  2 10  1  0\\n  5 11  1  0\\n  6 12  1  0\\n  6 13  1  0\\nM  END\\n\",\"mol\");\n\tviewer_1708434763241615.setStyle({\"stick\": {\"radius\": 0.15}, \"sphere\": {\"radius\": 0.3}});\n\tviewer_1708434763241615.zoomTo();\nviewer_1708434763241615.render();\n});\n</script>",
      "text/html": [
       "<div id=\"3dmolviewer_1708434763241615\"  style=\"position: relative; width: 400px; height: 400px;\">\n",
       "        <p id=\"3dmolwarning_1708434763241615\" style=\"background-color:#ffcccc;color:black\">You appear to be running in JupyterLab (or JavaScript failed to load for some other reason).  You need to install the 3dmol extension: <br>\n",
       "        <tt>jupyter labextension install jupyterlab_3dmol</tt></p>\n",
       "        </div>\n",
       "<script>\n",
       "\n",
       "var loadScriptAsync = function(uri){\n",
       "  return new Promise((resolve, reject) => {\n",
       "    //this is to ignore the existence of requirejs amd\n",
       "    var savedexports, savedmodule;\n",
       "    if (typeof exports !== 'undefined') savedexports = exports;\n",
       "    else exports = {}\n",
       "    if (typeof module !== 'undefined') savedmodule = module;\n",
       "    else module = {}\n",
       "\n",
       "    var tag = document.createElement('script');\n",
       "    tag.src = uri;\n",
       "    tag.async = true;\n",
       "    tag.onload = () => {\n",
       "        exports = savedexports;\n",
       "        module = savedmodule;\n",
       "        resolve();\n",
       "    };\n",
       "  var firstScriptTag = document.getElementsByTagName('script')[0];\n",
       "  firstScriptTag.parentNode.insertBefore(tag, firstScriptTag);\n",
       "});\n",
       "};\n",
       "\n",
       "if(typeof $3Dmolpromise === 'undefined') {\n",
       "$3Dmolpromise = null;\n",
       "  $3Dmolpromise = loadScriptAsync('https://cdnjs.cloudflare.com/ajax/libs/3Dmol/2.0.4/3Dmol-min.js');\n",
       "}\n",
       "\n",
       "var viewer_1708434763241615 = null;\n",
       "var warn = document.getElementById(\"3dmolwarning_1708434763241615\");\n",
       "if(warn) {\n",
       "    warn.parentNode.removeChild(warn);\n",
       "}\n",
       "$3Dmolpromise.then(function() {\n",
       "viewer_1708434763241615 = $3Dmol.createViewer(document.getElementById(\"3dmolviewer_1708434763241615\"),{backgroundColor:\"white\"});\n",
       "viewer_1708434763241615.zoomTo();\n",
       "\tviewer_1708434763241615.addModel(\"\\n     RDKit          3D\\n\\n 13 12  0  0  0  0  0  0  0  0999 V2000\\n   -1.0115    0.6523    0.6376 C   0  0  0  0  0  0  0  0  0  0  0  0\\n   -0.0807   -0.4533    0.2413 C   0  0  0  0  0  0  0  0  0  0  0  0\\n    1.2737    0.0528   -0.1452 C   0  0  0  0  0  0  0  0  0  0  0  0\\n    1.7674   -0.2042   -1.2789 O   0  0  0  0  0  0  0  0  0  0  0  0\\n    2.0521    0.8223    0.7091 O   0  0  0  0  0  0  0  0  0  0  0  0\\n   -0.6122   -1.2056   -0.8522 N   0  0  0  0  0  0  0  0  0  0  0  0\\n   -1.8389    0.2183    1.2400 H   0  0  0  0  0  0  0  0  0  0  0  0\\n   -1.4204    1.1503   -0.2855 H   0  0  0  0  0  0  0  0  0  0  0  0\\n   -0.5214    1.3980    1.2928 H   0  0  0  0  0  0  0  0  0  0  0  0\\n    0.0747   -1.0926    1.1507 H   0  0  0  0  0  0  0  0  0  0  0  0\\n    2.5694    1.5973    0.2737 H   0  0  0  0  0  0  0  0  0  0  0  0\\n   -1.4228   -0.7420   -1.3263 H   0  0  0  0  0  0  0  0  0  0  0  0\\n   -0.8294   -2.1936   -0.6224 H   0  0  0  0  0  0  0  0  0  0  0  0\\n  1  2  1  0\\n  2  3  1  0\\n  3  4  2  0\\n  3  5  1  0\\n  2  6  1  0\\n  1  7  1  0\\n  1  8  1  0\\n  1  9  1  0\\n  2 10  1  0\\n  5 11  1  0\\n  6 12  1  0\\n  6 13  1  0\\nM  END\\n\",\"mol\");\n",
       "\tviewer_1708434763241615.setStyle({\"stick\": {\"radius\": 0.15}, \"sphere\": {\"radius\": 0.3}});\n",
       "\tviewer_1708434763241615.zoomTo();\n",
       "viewer_1708434763241615.render();\n",
       "});\n",
       "</script>"
      ]
     },
     "metadata": {},
     "output_type": "display_data"
    }
   ],
   "source": [
    "import py3Dmol\n",
    "from rdkit import Chem\n",
    "from rdkit.Chem import AllChem\n",
    "\n",
    "# Generate a molecule and its 3D coordinates\n",
    "smiles = \"CC(C(=O)O)N\"  # Example for Alanine\n",
    "molecule = Chem.MolFromSmiles(smiles)\n",
    "molecule_with_h = Chem.AddHs(molecule)\n",
    "AllChem.EmbedMolecule(molecule_with_h, randomSeed = 2)\n",
    "\n",
    "# Convert to 3Dmol.js format\n",
    "mb = Chem.MolToMolBlock(molecule_with_h)\n",
    "\n",
    "view = py3Dmol.view(width=400, height=400)\n",
    "view.addModel(mb, 'mol')\n",
    "\n",
    "# Updated for ball-and-stick model\n",
    "view.setStyle({'stick': {'radius': 0.15}, 'sphere': {'radius': 0.3}})\n",
    "\n",
    "view.zoomTo()\n",
    "\n",
    "view.show()\n",
    "\n"
   ]
  },
  {
   "cell_type": "markdown",
   "metadata": {},
   "source": [
    "### Generate molecule from SMILES"
   ]
  },
  {
   "cell_type": "code",
   "execution_count": null,
   "metadata": {},
   "outputs": [
    {
     "data": {
      "image/png": "[encoded data removed]",
      "text/plain": [
       "<rdkit.Chem.rdchem.Mol at 0x281b9d047b0>"
      ]
     },
     "execution_count": 146,
     "metadata": {},
     "output_type": "execute_result"
    }
   ],
   "source": [
    "test_mol = Chem.MolFromSmiles( \"CC(C(=O)O)N\", # Example for Alanine\n",
    "                              sanitize = True) # Check for structure correctness\n",
    "test_mol_with_h = Chem.AddHs(molecule) # Add hydrogen\n",
    "\n",
    "# img = Chem.Draw.IPythonConsole.drawMol3D(test_mol_with_h) # Get 3D drawing\n",
    "test_mol"
   ]
  },
  {
   "cell_type": "markdown",
   "metadata": {},
   "source": [
    "### Get properties"
   ]
  },
  {
   "cell_type": "code",
   "execution_count": null,
   "metadata": {},
   "outputs": [
    {
     "name": "stdout",
     "output_type": "stream",
     "text": [
      "Atom numbers: 6 6 6 8 8 7 \n",
      "Atom numbers: C C C O O N \n",
      "Bondtypes: SINGLE SINGLE DOUBLE SINGLE SINGLE "
     ]
    }
   ],
   "source": [
    "test_mol.GetNumAtoms() # Returns number of atoms\n",
    "\n",
    "# Find atom numbers\n",
    "print('Atom numbers:', end = ' ')\n",
    "for a in test_mol.GetAtoms():\n",
    "    print(a.GetAtomicNum(), end=' ')\n",
    "\n",
    "# Find atom name\n",
    "print('\\nAtom numbers:', end = ' ')\n",
    "for a in test_mol.GetAtoms():\n",
    "    print(a.GetSymbol(), end=' ')\n",
    "\n",
    "# Find bond type\n",
    "print('\\nBondtypes:', end = ' ')\n",
    "for bond in test_mol.GetBonds():\n",
    "    print(bond.GetBondType(), end = ' ')"
   ]
  },
  {
   "cell_type": "markdown",
   "metadata": {},
   "source": [
    "### Write up the Mol Block"
   ]
  },
  {
   "cell_type": "code",
   "execution_count": null,
   "metadata": {},
   "outputs": [
    {
     "name": "stdout",
     "output_type": "stream",
     "text": [
      "Alanine\n",
      "     RDKit          2D\n",
      "\n",
      "  6  5  0  0  0  0  0  0  0  0999 V2000\n",
      "    1.5000    1.2990    0.0000 C   0  0  0  0  0  0  0  0  0  0  0  0\n",
      "    0.7500    0.0000    0.0000 C   0  0  0  0  0  0  0  0  0  0  0  0\n",
      "   -0.7500   -0.0000    0.0000 C   0  0  0  0  0  0  0  0  0  0  0  0\n",
      "   -1.5000    1.2990    0.0000 O   0  0  0  0  0  0  0  0  0  0  0  0\n",
      "   -1.5000   -1.2990    0.0000 O   0  0  0  0  0  0  0  0  0  0  0  0\n",
      "    1.5000   -1.2990    0.0000 N   0  0  0  0  0  0  0  0  0  0  0  0\n",
      "  1  2  1  0\n",
      "  2  3  1  0\n",
      "  3  4  2  0\n",
      "  3  5  1  0\n",
      "  2  6  1  0\n",
      "M  END\n",
      "\n"
     ]
    }
   ],
   "source": [
    "from rdkit.Chem import AllChem\n",
    "\n",
    "# Get 2D coordinate. Can be saved as .mol\n",
    "AllChem.Compute2DCoords(test_mol)\n",
    "test_mol.SetProp(\"_Name\",\"Alanine\")\n",
    "print(Chem.MolToMolBlock(test_mol))     \n"
   ]
  },
  {
   "cell_type": "code",
   "execution_count": null,
   "metadata": {},
   "outputs": [
    {
     "name": "stdout",
     "output_type": "stream",
     "text": [
      "Alanine\n",
      "     RDKit          3D\n",
      "\n",
      "  6  5  0  0  0  0  0  0  0  0999 V2000\n",
      "   -1.2541    0.4001   -1.2677 C   0  0  0  0  0  0  0  0  0  0  0  0\n",
      "   -0.6647   -0.5096   -0.1942 C   0  0  0  0  0  0  0  0  0  0  0  0\n",
      "    0.7122   -0.0086    0.0517 C   0  0  0  0  0  0  0  0  0  0  0  0\n",
      "    1.5819   -0.0648   -0.8907 O   0  0  0  0  0  0  0  0  0  0  0  0\n",
      "    1.0459    0.5077    1.2745 O   0  0  0  0  0  0  0  0  0  0  0  0\n",
      "   -1.4212   -0.3248    1.0263 N   0  0  0  0  0  0  0  0  0  0  0  0\n",
      "  1  2  1  0\n",
      "  2  3  1  0\n",
      "  3  4  2  0\n",
      "  3  5  1  0\n",
      "  2  6  1  0\n",
      "M  END\n",
      "\n"
     ]
    },
    {
     "name": "stderr",
     "output_type": "stream",
     "text": [
      "[17:12:53] Molecule does not have explicit Hs. Consider calling AddHs()\n"
     ]
    }
   ],
   "source": [
    "# Get 3D coordinate. Can be saved as .mol\n",
    "AllChem.EmbedMolecule(test_mol, randomSeed = 2)\n",
    "test_mol.SetProp(\"_Name\",\"Alanine\")\n",
    "Chem.AddHs(test_mol)\n",
    "print(Chem.MolToMolBlock(test_mol))     \n"
   ]
  },
  {
   "cell_type": "markdown",
   "metadata": {},
   "source": [
    "### 2D depiction allignment\n",
    "Help to have all amino acid backbone at the same place"
   ]
  },
  {
   "cell_type": "code",
   "execution_count": null,
   "metadata": {},
   "outputs": [
    {
     "data": {
      "image/png": "[encoded data removed]",
      "text/plain": [
       "<rdkit.Chem.rdchem.Mol at 0x281b9d047b0>"
      ]
     },
     "execution_count": 165,
     "metadata": {},
     "output_type": "execute_result"
    }
   ],
   "source": [
    "# Define your molecules here\n",
    "backbone = Chem.MolFromSmiles('NCC(=O)O')\n",
    "\n",
    "# Compute 2D coordinates for both the template and the test molecule\n",
    "AllChem.Compute2DCoords(backbone)\n",
    "AllChem.Compute2DCoords(test_mol)\n",
    "\n",
    "# Allign the test_mol object to the backbone, and there by have the same conformation\n",
    "AllChem.GenerateDepictionMatching2DStructure(test_mol, backbone)\n",
    "test_mol\n",
    "\n",
    "\n",
    "# rdkit.Chem.rdDepictor.Compute2DCoordsMimicDistmat\n",
    "# Could maybe be used as it \n",
    "# Compute 2D coordinates for a molecule such\n",
    "# that the inter-atom distances mimic those in a user-provided distance matrix. \n",
    "# The resulting coordinates are stored on each atom of the molecule"
   ]
  },
  {
   "cell_type": "markdown",
   "metadata": {},
   "source": [
    "### Generate 3D allignment\n",
    "\n",
    "Below is there many random test to get the achieve a 3D allignment"
   ]
  },
  {
   "cell_type": "code",
   "execution_count": 12,
   "metadata": {},
   "outputs": [
    {
     "ename": "RuntimeError",
     "evalue": "No sub-structure match found between the probe and query mol",
     "output_type": "error",
     "traceback": [
      "\u001b[1;31m---------------------------------------------------------------------------\u001b[0m",
      "\u001b[1;31mRuntimeError\u001b[0m                              Traceback (most recent call last)",
      "Cell \u001b[1;32mIn[12], line 16\u001b[0m\n\u001b[0;32m     13\u001b[0m AllChem\u001b[38;5;241m.\u001b[39mEmbedMolecule(backbone, randomSeed\u001b[38;5;241m=\u001b[39m\u001b[38;5;241m42\u001b[39m)\n\u001b[0;32m     15\u001b[0m \u001b[38;5;66;03m# Align alanine to the backbone\u001b[39;00m\n\u001b[1;32m---> 16\u001b[0m rmsd \u001b[38;5;241m=\u001b[39m \u001b[43mrdMolAlign\u001b[49m\u001b[38;5;241;43m.\u001b[39;49m\u001b[43mAlignMol\u001b[49m\u001b[43m(\u001b[49m\u001b[43malanine\u001b[49m\u001b[43m,\u001b[49m\u001b[43m \u001b[49m\u001b[43mbackbone\u001b[49m\u001b[43m)\u001b[49m\n\u001b[0;32m     18\u001b[0m \u001b[38;5;28mprint\u001b[39m(\u001b[38;5;124mf\u001b[39m\u001b[38;5;124m\"\u001b[39m\u001b[38;5;124mRMSD after alignment: \u001b[39m\u001b[38;5;132;01m{\u001b[39;00mrmsd\u001b[38;5;132;01m}\u001b[39;00m\u001b[38;5;124m\"\u001b[39m)\n",
      "\u001b[1;31mRuntimeError\u001b[0m: No sub-structure match found between the probe and query mol"
     ]
    }
   ],
   "source": [
    "from rdkit.Chem import rdMolAlign\n",
    "\n",
    "# Define alanine and a simple backbone (glycine in this case, as a proxy for the backbone)\n",
    "alanine_smiles = 'C[C@@H](C(=O)O)N '\n",
    "backbone_smiles = 'C(C(=O)O)N'  # Glycine as a stand-in for the backbone\n",
    "\n",
    "# Convert SMILES to RDKit molecule objects and add hydrogens\n",
    "alanine = Chem.AddHs(Chem.MolFromSmiles(alanine_smiles))\n",
    "backbone = Chem.AddHs(Chem.MolFromSmiles(backbone_smiles))\n",
    "\n",
    "# Generate 3D conformations\n",
    "AllChem.EmbedMolecule(alanine, randomSeed=42)\n",
    "AllChem.EmbedMolecule(backbone, randomSeed=42)\n",
    "\n",
    "# Align alanine to the backbone\n",
    "rmsd = rdMolAlign.AlignMol(backbone, alanine)\n",
    "\n",
    "print(f\"RMSD after alignment: {rmsd}\")\n"
   ]
  },
  {
   "cell_type": "code",
   "execution_count": 8,
   "metadata": {},
   "outputs": [
    {
     "name": "stderr",
     "output_type": "stream",
     "text": [
      "[10:48:09] Molecule does not have explicit Hs. Consider calling AddHs()\n",
      "[10:48:09] Molecule does not have explicit Hs. Consider calling AddHs()\n"
     ]
    },
    {
     "data": {
      "image/png": "[encoded data removed]",
      "text/plain": [
       "<rdkit.Chem.rdchem.Mol at 0x17ecece8d60>"
      ]
     },
     "execution_count": 8,
     "metadata": {},
     "output_type": "execute_result"
    }
   ],
   "source": [
    "# Load or generate the 3D structures of your molecules\n",
    "ref_mol = Chem.MolFromMolFile('backbone.mol', removeHs=False)\n",
    "target_mol = Chem.MolFromMolFile('alanine.mol', removeHs=False)\n",
    "\n",
    "# Generate 3D coordinates for the molecules if not already present\n",
    "AllChem.EmbedMolecule(ref_mol)\n",
    "AllChem.EmbedMolecule(target_mol)\n",
    "\n",
    "# Align the target molecule to the reference molecule\n",
    "rmsd = AllChem.AlignMol(ref_mol, target_mol)"
   ]
  },
  {
   "cell_type": "code",
   "execution_count": 33,
   "metadata": {},
   "outputs": [
    {
     "data": {
      "application/3dmoljs_load.v0": "<div id=\"3dmolviewer_17080800669301455\"  style=\"position: relative; width: 400px; height: 400px;\">\n        <p id=\"3dmolwarning_17080800669301455\" style=\"background-color:#ffcccc;color:black\">You appear to be running in JupyterLab (or JavaScript failed to load for some other reason).  You need to install the 3dmol extension: <br>\n        <tt>jupyter labextension install jupyterlab_3dmol</tt></p>\n        </div>\n<script>\n\nvar loadScriptAsync = function(uri){\n  return new Promise((resolve, reject) => {\n    //this is to ignore the existence of requirejs amd\n    var savedexports, savedmodule;\n    if (typeof exports !== 'undefined') savedexports = exports;\n    else exports = {}\n    if (typeof module !== 'undefined') savedmodule = module;\n    else module = {}\n\n    var tag = document.createElement('script');\n    tag.src = uri;\n    tag.async = true;\n    tag.onload = () => {\n        exports = savedexports;\n        module = savedmodule;\n        resolve();\n    };\n  var firstScriptTag = document.getElementsByTagName('script')[0];\n  firstScriptTag.parentNode.insertBefore(tag, firstScriptTag);\n});\n};\n\nif(typeof $3Dmolpromise === 'undefined') {\n$3Dmolpromise = null;\n  $3Dmolpromise = loadScriptAsync('https://cdnjs.cloudflare.com/ajax/libs/3Dmol/2.0.4/3Dmol-min.js');\n}\n\nvar viewer_17080800669301455 = null;\nvar warn = document.getElementById(\"3dmolwarning_17080800669301455\");\nif(warn) {\n    warn.parentNode.removeChild(warn);\n}\n$3Dmolpromise.then(function() {\nviewer_17080800669301455 = $3Dmol.createViewer(document.getElementById(\"3dmolviewer_17080800669301455\"),{backgroundColor:\"white\"});\nviewer_17080800669301455.zoomTo();\n\tviewer_17080800669301455.removeAllModels();\n\tviewer_17080800669301455.addModel(\"\\n     RDKit          3D\\n\\n  6  6  0  0  0  0  0  0  0  0999 V2000\\n   -0.2092    1.3868   -0.1363 C   0  0  0  0  0  0  0  0  0  0  0  0\\n   -1.2593    0.5058    0.0234 C   0  0  0  0  0  0  0  0  0  0  0  0\\n   -1.0572   -0.8637    0.1582 C   0  0  0  0  0  0  0  0  0  0  0  0\\n    0.2192   -1.3862    0.1356 C   0  0  0  0  0  0  0  0  0  0  0  0\\n    1.2683   -0.5051   -0.0240 C   0  0  0  0  0  0  0  0  0  0  0  0\\n    1.0653    0.8634   -0.1587 C   0  0  0  0  0  0  0  0  0  0  0  0\\n  1  2  2  0\\n  2  3  1  0\\n  3  4  2  0\\n  4  5  1  0\\n  5  6  2  0\\n  6  1  1  0\\nM  END\\n\",\"mol\");\n\tviewer_17080800669301455.addModel(\"\\n     RDKit          3D\\n\\n  8  8  0  0  0  0  0  0  0  0999 V2000\\n   -0.4828    3.5675    1.0329 C   0  0  0  0  0  0  0  0  0  0  0  0\\n   -0.4655    2.8398   -0.2768 C   0  0  0  0  0  0  0  0  0  0  0  0\\n   -0.2113    1.3863   -0.1361 C   0  0  0  0  0  0  0  0  0  0  0  0\\n   -1.2445    0.4932    0.0238 C   0  0  0  0  0  0  0  0  0  0  0  0\\n   -1.0702   -0.8654    0.1592 C   0  0  0  0  0  0  0  0  0  0  0  0\\n    0.2133   -1.3683    0.1340 C   0  0  0  0  0  0  0  0  0  0  0  0\\n    1.2761   -0.5037   -0.0246 C   0  0  0  0  0  0  0  0  0  0  0  0\\n    1.0637    0.8590   -0.1581 C   0  0  0  0  0  0  0  0  0  0  0  0\\n  1  2  1  0\\n  2  3  1  0\\n  3  4  2  0\\n  4  5  1  0\\n  5  6  2  0\\n  6  7  1  0\\n  7  8  2  0\\n  8  3  1  0\\nM  END\\n\",\"mol\");\n\tviewer_17080800669301455.setStyle({\"stick\": {}});\n\tviewer_17080800669301455.zoomTo();\nviewer_17080800669301455.render();\n});\n</script>",
      "text/html": [
       "<div id=\"3dmolviewer_17080800669301455\"  style=\"position: relative; width: 400px; height: 400px;\">\n",
       "        <p id=\"3dmolwarning_17080800669301455\" style=\"background-color:#ffcccc;color:black\">You appear to be running in JupyterLab (or JavaScript failed to load for some other reason).  You need to install the 3dmol extension: <br>\n",
       "        <tt>jupyter labextension install jupyterlab_3dmol</tt></p>\n",
       "        </div>\n",
       "<script>\n",
       "\n",
       "var loadScriptAsync = function(uri){\n",
       "  return new Promise((resolve, reject) => {\n",
       "    //this is to ignore the existence of requirejs amd\n",
       "    var savedexports, savedmodule;\n",
       "    if (typeof exports !== 'undefined') savedexports = exports;\n",
       "    else exports = {}\n",
       "    if (typeof module !== 'undefined') savedmodule = module;\n",
       "    else module = {}\n",
       "\n",
       "    var tag = document.createElement('script');\n",
       "    tag.src = uri;\n",
       "    tag.async = true;\n",
       "    tag.onload = () => {\n",
       "        exports = savedexports;\n",
       "        module = savedmodule;\n",
       "        resolve();\n",
       "    };\n",
       "  var firstScriptTag = document.getElementsByTagName('script')[0];\n",
       "  firstScriptTag.parentNode.insertBefore(tag, firstScriptTag);\n",
       "});\n",
       "};\n",
       "\n",
       "if(typeof $3Dmolpromise === 'undefined') {\n",
       "$3Dmolpromise = null;\n",
       "  $3Dmolpromise = loadScriptAsync('https://cdnjs.cloudflare.com/ajax/libs/3Dmol/2.0.4/3Dmol-min.js');\n",
       "}\n",
       "\n",
       "var viewer_17080800669301455 = null;\n",
       "var warn = document.getElementById(\"3dmolwarning_17080800669301455\");\n",
       "if(warn) {\n",
       "    warn.parentNode.removeChild(warn);\n",
       "}\n",
       "$3Dmolpromise.then(function() {\n",
       "viewer_17080800669301455 = $3Dmol.createViewer(document.getElementById(\"3dmolviewer_17080800669301455\"),{backgroundColor:\"white\"});\n",
       "viewer_17080800669301455.zoomTo();\n",
       "\tviewer_17080800669301455.removeAllModels();\n",
       "\tviewer_17080800669301455.addModel(\"\\n     RDKit          3D\\n\\n  6  6  0  0  0  0  0  0  0  0999 V2000\\n   -0.2092    1.3868   -0.1363 C   0  0  0  0  0  0  0  0  0  0  0  0\\n   -1.2593    0.5058    0.0234 C   0  0  0  0  0  0  0  0  0  0  0  0\\n   -1.0572   -0.8637    0.1582 C   0  0  0  0  0  0  0  0  0  0  0  0\\n    0.2192   -1.3862    0.1356 C   0  0  0  0  0  0  0  0  0  0  0  0\\n    1.2683   -0.5051   -0.0240 C   0  0  0  0  0  0  0  0  0  0  0  0\\n    1.0653    0.8634   -0.1587 C   0  0  0  0  0  0  0  0  0  0  0  0\\n  1  2  2  0\\n  2  3  1  0\\n  3  4  2  0\\n  4  5  1  0\\n  5  6  2  0\\n  6  1  1  0\\nM  END\\n\",\"mol\");\n",
       "\tviewer_17080800669301455.addModel(\"\\n     RDKit          3D\\n\\n  8  8  0  0  0  0  0  0  0  0999 V2000\\n   -0.4828    3.5675    1.0329 C   0  0  0  0  0  0  0  0  0  0  0  0\\n   -0.4655    2.8398   -0.2768 C   0  0  0  0  0  0  0  0  0  0  0  0\\n   -0.2113    1.3863   -0.1361 C   0  0  0  0  0  0  0  0  0  0  0  0\\n   -1.2445    0.4932    0.0238 C   0  0  0  0  0  0  0  0  0  0  0  0\\n   -1.0702   -0.8654    0.1592 C   0  0  0  0  0  0  0  0  0  0  0  0\\n    0.2133   -1.3683    0.1340 C   0  0  0  0  0  0  0  0  0  0  0  0\\n    1.2761   -0.5037   -0.0246 C   0  0  0  0  0  0  0  0  0  0  0  0\\n    1.0637    0.8590   -0.1581 C   0  0  0  0  0  0  0  0  0  0  0  0\\n  1  2  1  0\\n  2  3  1  0\\n  3  4  2  0\\n  4  5  1  0\\n  5  6  2  0\\n  6  7  1  0\\n  7  8  2  0\\n  8  3  1  0\\nM  END\\n\",\"mol\");\n",
       "\tviewer_17080800669301455.setStyle({\"stick\": {}});\n",
       "\tviewer_17080800669301455.zoomTo();\n",
       "viewer_17080800669301455.render();\n",
       "});\n",
       "</script>"
      ]
     },
     "metadata": {},
     "output_type": "display_data"
    }
   ],
   "source": [
    "from rdkit import Chem\n",
    "from rdkit.Chem import AllChem\n",
    "from rdkit.Chem import rdFMCS\n",
    "import py3Dmol\n",
    "\n",
    "# Define SMILES for benzene and ethylbenzene\n",
    "benzene_smiles = 'c1ccccc1'\n",
    "ethylbenzene_smiles = 'CCc1ccccc1'\n",
    "\n",
    "# Convert SMILES to RDKit molecule objects\n",
    "benzene = Chem.MolFromSmiles(benzene_smiles)\n",
    "ethylbenzene = Chem.MolFromSmiles(ethylbenzene_smiles)\n",
    "\n",
    "# Generate 3D structures\n",
    "mhs = [Chem.AddHs(x) for x in [benzene, ethylbenzene]]\n",
    "[AllChem.EmbedMolecule(x, AllChem.ETKDG()) for x in mhs]\n",
    "mols = [Chem.RemoveHs(x) for x in mhs]\n",
    "\n",
    "# Fin the maximum common structure\n",
    "mcs = rdFMCS.FindMCS(mols,threshold=0.8,completeRingsOnly=True,ringMatchesRingOnly=True)\n",
    "\n",
    "# Allign everything to the first molecule\n",
    "patt = Chem.MolFromSmarts(mcs.smartsString)\n",
    "refMol = mols[0]\n",
    "refMatch = refMol.GetSubstructMatch(patt)\n",
    "\n",
    "rmsVs = []\n",
    "for probeMol in mols[1:]:\n",
    "    mv = probeMol.GetSubstructMatch(patt)\n",
    "    rms = AllChem.AlignMol(probeMol, refMol, atomMap = list(zip(mv, refMatch)))\n",
    "    rmsVs.append(rms)\n",
    "\n",
    "\n",
    "\n",
    "def show_3D_aligned_mols(mols, width=400, height=400):\n",
    "    # Initialize viewer\n",
    "    view = py3Dmol.view(width=width, height=height)\n",
    "    view.removeAllModels()\n",
    "\n",
    "    # Add each molecule to the viewer\n",
    "    for mol in mols:\n",
    "        # Convert molecule to 3D coordinates in PDB format for visualization\n",
    "        mb = Chem.MolToMolBlock(mol)\n",
    "        view.addModel(mb, 'mol')\n",
    "\n",
    "    # Style options for the molecules\n",
    "    view.setStyle({'stick': {}})\n",
    "    \n",
    "    # Align the view to the added models\n",
    "    view.zoomTo()\n",
    "\n",
    "    return view\n",
    "\n",
    "# Visualize the aligned molecules\n",
    "view = show_3D_aligned_mols(mols)\n",
    "view.show()\n",
    "\n"
   ]
  }
 ],
 "metadata": {
  "kernelspec": {
   "display_name": "Python 3",
   "language": "python",
   "name": "python3"
  },
  "language_info": {
   "codemirror_mode": {
    "name": "ipython",
    "version": 3
   },
   "file_extension": ".py",
   "mimetype": "text/x-python",
   "name": "python",
   "nbconvert_exporter": "python",
   "pygments_lexer": "ipython3",
   "version": "3.11.8"
  }
 },
 "nbformat": 4,
 "nbformat_minor": 2
}
